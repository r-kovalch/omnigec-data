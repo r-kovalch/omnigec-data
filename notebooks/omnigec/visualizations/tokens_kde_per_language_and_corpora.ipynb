{
 "cells": [
  {
   "cell_type": "code",
   "execution_count": null,
   "metadata": {
    "collapsed": true
   },
   "outputs": [],
   "source": [
    "import pandas as pd\n",
    "import hvplot.pandas\n",
    "\n",
    "omnigec_df = pd.read_csv(\"../../datasets/omnigec/omnigec_minimal.csv\")\n",
    "omnigec_df"
   ]
  },
  {
   "cell_type": "code",
   "execution_count": null,
   "outputs": [],
   "source": [
    "omnigec_df"
   ],
   "metadata": {
    "collapsed": false
   }
  },
  {
   "cell_type": "code",
   "execution_count": null,
   "outputs": [],
   "source": [
    "import tiktoken\n",
    "\n",
    "tokenizer = tiktoken.encoding_for_model(\"gpt-4o-mini\")\n",
    "\n",
    "def count_tokens(x):\n",
    "    # if it's not a string (e.g. NaN, list, int), treat as zero‑length\n",
    "    if not isinstance(x, str):\n",
    "        return 0\n",
    "    return len(tokenizer.encode(x))\n",
    "\n",
    "omnigec_df['tokens'] = omnigec_df['feature'].apply(count_tokens)\n",
    "omnigec_df"
   ],
   "metadata": {
    "collapsed": false
   }
  },
  {
   "cell_type": "code",
   "execution_count": null,
   "outputs": [],
   "source": [
    "import hvplot.pandas  # register hvplot\n",
    "import holoviews as hv\n",
    "\n",
    "# build one overlay per language\n",
    "plots = []\n",
    "for lang in omnigec_df['language'].unique():\n",
    "    df_lang = omnigec_df[omnigec_df['language'] == lang]\n",
    "    # one KDE curve per corpora, labeled so hv will color them\n",
    "    curves = []\n",
    "    for corp in df_lang['corpora'].unique():\n",
    "        df_corp = df_lang[df_lang['corpora'] == corp]\n",
    "        curves.append(\n",
    "            df_corp.hvplot.kde(\n",
    "                y='tokens',\n",
    "                label=str(corp),      # gives each curve a legend entry\n",
    "                hover=False           # optional: simpler hover\n",
    "            )\n",
    "        )\n",
    "    overlay = hv.Overlay(curves).opts(\n",
    "        title=str(lang),\n",
    "        #sharex=True,\n",
    "        #sharey=True,\n",
    "        legend_position='top_right',\n",
    "        width=1000,\n",
    "        height=200\n",
    "    )\n",
    "    plots.append(overlay)\n",
    "\n",
    "# stack vertically\n",
    "layout = hv.Layout(plots).cols(1)\n",
    "layout\n"
   ],
   "metadata": {
    "collapsed": false
   }
  },
  {
   "cell_type": "code",
   "execution_count": null,
   "outputs": [],
   "source": [
    "omnigec_df = pd.read_csv(\"../../datasets/omnigec/omnigec_minimal.csv\")\n",
    "omnigec_df.loc[omnigec_df.loc[:, \"corpora\"] == \"multigec\", \"corpora\"] = \"multigec-minimal\"\n",
    "omnigec_fluency_df = pd.read_csv(\"../../datasets/omnigec/omnigec_fluency.csv\")\n",
    "omnigec_fluency_df = omnigec_fluency_df.loc[omnigec_fluency_df.loc[:, \"corpora\"] == \"multigec\"]\n",
    "omnigec_fluency_df.loc[omnigec_fluency_df.loc[:, \"corpora\"] == \"multigec\", \"corpora\"] = \"multigec-fluency\"\n",
    "omnigec_df = pd.concat([\n",
    "    omnigec_df,\n",
    "    omnigec_fluency_df\n",
    "])"
   ],
   "metadata": {
    "collapsed": false
   }
  },
  {
   "cell_type": "code",
   "execution_count": null,
   "outputs": [],
   "source": [
    "omnigec_df"
   ],
   "metadata": {
    "collapsed": false
   }
  },
  {
   "cell_type": "code",
   "execution_count": null,
   "outputs": [],
   "source": [
    "import seaborn as sns\n",
    "import matplotlib.pyplot as plt\n",
    "from matplotlib.ticker import MultipleLocator, FuncFormatter\n",
    "\n",
    "# 0) Filter out the top 0.5% of tokens within each language\n",
    "q995 = omnigec_df.groupby('language')['tokens'].transform(lambda x: x.quantile(0.9999))\n",
    "df_filtered = omnigec_df[omnigec_df['tokens'] <= q995]\n",
    "\n",
    "# 1) Set style\n",
    "sns.set_style(\"whitegrid\")\n",
    "\n",
    "# 2) Build FacetGrid with legend inside\n",
    "g = sns.FacetGrid(\n",
    "    df_filtered,\n",
    "    row=\"language\",\n",
    "    hue=\"corpora\",\n",
    "    sharex=True,\n",
    "    sharey=True,\n",
    "    height=1.25,\n",
    "    aspect=6,\n",
    "    legend_out=False\n",
    ")\n",
    "\n",
    "# 3) Map the KDE with clip=(0,None) to prevent negative support\n",
    "g.map(\n",
    "    sns.kdeplot,\n",
    "    \"tokens\",\n",
    "    common_norm=False,\n",
    "    clip=(0, None)\n",
    ")\n",
    "\n",
    "# 4) Remove per‑subplot labels (we’ll use global ones)\n",
    "g.set_axis_labels(\"\", \"\")\n",
    "\n",
    "# 5) Enable minor ticks and grids on all plots, then clamp x to [0,1600]\n",
    "for ax in g.axes.flatten():\n",
    "    ax.minorticks_on()\n",
    "    ax.grid(which=\"minor\", linestyle=\":\", linewidth=0.5)\n",
    "    ax.grid(which=\"major\", linestyle=\"--\", linewidth=0.8)\n",
    "    ax.set_xlim(0)  # ← clamp right at 1600\n",
    "\n",
    "# 6) Configure bottom facet’s locators & rotated minor tick labels\n",
    "bottom_ax = g.axes[-1][0]\n",
    "bottom_ax.xaxis.set_major_locator(MultipleLocator(500))\n",
    "bottom_ax.xaxis.set_minor_locator(MultipleLocator(100))\n",
    "bottom_ax.xaxis.set_minor_formatter(FuncFormatter(lambda x, _: f\"{int(x)}\"))\n",
    "bottom_ax.tick_params(axis='x', which='major', labelbottom=True, labelrotation=45, labelsize=12)\n",
    "bottom_ax.tick_params(axis='x', which='minor', labelbottom=True, labelrotation=45, labelsize=12, pad=5)\n",
    "\n",
    "# 7) Shared axis labels with extra left margin and tighter vertical spacing\n",
    "fig = g.fig\n",
    "fig.subplots_adjust(left=0.18, hspace=0.1)   # ← decrease hspace to tighten rows\n",
    "fig.supylabel(\"Token Length Probability\", x=0.02, fontsize=14)\n",
    "fig.supxlabel(\"Token Length\", y=0, fontsize=14)\n",
    "\n",
    "# 8) Increase the row titles (language names)\n",
    "g.set_titles(\n",
    "    row_template=\"{row_name}\",\n",
    "    size=14,\n",
    "    y=1.0,\n",
    "    x=0.0,\n",
    "    ha='left'\n",
    ")\n",
    "\n",
    "# 9) Single legend inside with larger text\n",
    "g.add_legend(\n",
    "    title=\"Corpora\",\n",
    "    loc=\"upper left\",\n",
    "    frameon=True,\n",
    "    bbox_to_anchor=(0.95, 0.95),\n",
    "    fontsize=12,\n",
    "    title_fontsize=14\n",
    ")\n",
    "\n",
    "# 10) Final layout, save, show\n",
    "plt.tight_layout()\n",
    "plt.savefig(\"kde_per_language_and_corpora_clipped_largerfonts.png\")\n",
    "plt.show()\n"
   ],
   "metadata": {
    "collapsed": false
   }
  },
  {
   "cell_type": "code",
   "execution_count": null,
   "outputs": [],
   "source": [
    "wiki_english = pd.read_csv(\"../../datasets/wikiedits/wiki_correction_v2.csv\")\n",
    "wiki_english = wiki_english.rename(columns={\n",
    "    \"text_del_clean\": \"feature\",\n",
    "    \"text_ins_clean\": \"target\",\n",
    "}).loc[:, [\"feature\", \"target\", \"code_lang\"]]\n",
    "wiki_english = wiki_english.loc[wiki_english.loc[:, \"code_lang\"] == \"en\"]\n",
    "wiki_english.loc[:, \"corpora\"] = \"wikiedits\"\n",
    "wiki_english.loc[:, \"language\"] = \"english\"\n",
    "wiki_english"
   ],
   "metadata": {
    "collapsed": false
   }
  },
  {
   "cell_type": "code",
   "execution_count": null,
   "outputs": [],
   "source": [
    "omnigec_ua_df = pd.read_csv(\"../../datasets/omnigec/omnigec_plus_ua_minimal.csv\")\n",
    "omnigec_df = pd.concat([\n",
    "    omnigec_df,\n",
    "    omnigec_ua_df.loc[omnigec_ua_df.loc[:, \"corpora\"] == \"ubertext\"],\n",
    "    wiki_english\n",
    "]).drop_duplicates()"
   ],
   "metadata": {
    "collapsed": false
   }
  },
  {
   "cell_type": "code",
   "execution_count": null,
   "outputs": [],
   "source": [
    "omnigec_df"
   ],
   "metadata": {
    "collapsed": false
   }
  },
  {
   "cell_type": "code",
   "execution_count": null,
   "outputs": [],
   "source": [
    "import seaborn as sns\n",
    "import matplotlib.pyplot as plt\n",
    "from matplotlib.patches import Patch\n",
    "\n",
    "# 0) rename & reorder your corpora\n",
    "rename_map = {\n",
    "    'multigec-minimal': 'MultiGEC-minimal',\n",
    "    'multigec-fluency': 'MultiGEC-fluency',\n",
    "    'wikiedits':       'WikiEdits-MultiGEC',\n",
    "    'reddit':          'Reddit-MultiGEC',\n",
    "    'ubertext':        \"UberText-GEC\",\n",
    "}\n",
    "omnigec_df['corpora_display'] = omnigec_df['corpora'].map(rename_map)\n",
    "order = [\n",
    "    'MultiGEC-minimal',\n",
    "    'MultiGEC-fluency',\n",
    "    'WikiEdits-MultiGEC',\n",
    "    'Reddit-MultiGEC',\n",
    "    'UberText-GEC',\n",
    "]\n",
    "\n",
    "# 1) capitalized language names\n",
    "omnigec_df['language_display'] = omnigec_df['language'].str.capitalize()\n",
    "\n",
    "sns.set_style(\"whitegrid\")\n",
    "\n",
    "# 2) define a fixed palette so we know the colors\n",
    "palette = dict(zip(order, sns.color_palette(n_colors=len(order))))\n",
    "\n",
    "# 3) draw the catplot with our palette\n",
    "g = sns.catplot(\n",
    "    data=omnigec_df,\n",
    "    row=\"language_display\",\n",
    "    y=\"corpora_display\",\n",
    "    x=\"tokens\",\n",
    "    hue=\"corpora_display\",\n",
    "    palette=palette,\n",
    "    kind=\"box\",\n",
    "    orient=\"h\",\n",
    "    sharex=True,\n",
    "    sharey=True,\n",
    "    order=order,\n",
    "    hue_order=order,\n",
    "    height=1.5,\n",
    "    aspect=8,\n",
    ")\n",
    "\n",
    "# 4) clean up titles & labels\n",
    "g.set_titles(row_template=\"{row_name}\", size=14, y=1.0, x=0.0, ha='left')\n",
    "g.set_axis_labels(\"\", \"\")\n",
    "\n",
    "fig = g.fig\n",
    "fig.subplots_adjust(left=0.18, top=0.92)\n",
    "fig.supxlabel(\"Token Length\", y=-0.02, fontsize=14)\n",
    "fig.supylabel(\"Corpora\", x=0, fontsize=14)\n",
    "fig.suptitle(\"Boxplot of Token Length by Corpora and Language\", fontsize=16)\n",
    "fig.supxlabel(\"Token Length\", y=0, fontsize=14)\n",
    "\n",
    "# 5) remove any existing legend\n",
    "if g._legend:\n",
    "    g._legend.remove()\n",
    "\n",
    "# 6) build manual legend proxies & place inside figure\n",
    "proxies = [Patch(facecolor=palette[label]) for label in order]\n",
    "fig.legend(\n",
    "    proxies,\n",
    "    order,\n",
    "    title=\"Corpora\",\n",
    "    loc=\"upper right\",\n",
    "    bbox_to_anchor=(0.95, 0.95),\n",
    "    bbox_transform=fig.transFigure,\n",
    "    frameon=True,\n",
    "    fontsize=12,\n",
    "    title_fontsize=14,\n",
    "    borderaxespad=0.0,\n",
    "\n",
    ")\n",
    "\n",
    "plt.tight_layout()\n",
    "plt.savefig(\"box_per_language_and_corpora.png\", dpi=300)\n",
    "plt.show()\n"
   ],
   "metadata": {
    "collapsed": false
   }
  }
 ],
 "metadata": {
  "kernelspec": {
   "display_name": "Python 3",
   "language": "python",
   "name": "python3"
  },
  "language_info": {
   "codemirror_mode": {
    "name": "ipython",
    "version": 2
   },
   "file_extension": ".py",
   "mimetype": "text/x-python",
   "name": "python",
   "nbconvert_exporter": "python",
   "pygments_lexer": "ipython2",
   "version": "2.7.6"
  }
 },
 "nbformat": 4,
 "nbformat_minor": 0
}
