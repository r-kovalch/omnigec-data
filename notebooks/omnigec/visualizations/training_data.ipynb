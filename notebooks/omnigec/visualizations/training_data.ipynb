{
 "cells": [
  {
   "cell_type": "code",
   "execution_count": null,
   "metadata": {
    "collapsed": true
   },
   "outputs": [],
   "source": [
    "import pandas as pd\n",
    "import numpy as np\n",
    "import matplotlib.pyplot as plt\n",
    "from matplotlib.colors import LogNorm\n",
    "\n",
    "# 1) Build the DataFrame\n",
    "data = {\n",
    "    'Dataset': (\n",
    "        ['MultiGEC-minimal'] * 11 +\n",
    "        ['MultiGEC-fluency'] * 11 +\n",
    "        ['OmniGEC'] * 11 +\n",
    "        ['WikiEdits-MultiGEC'] * 11 +\n",
    "        ['Reddit-MultiGEC'] * 11 +\n",
    "        ['UberText-GEC'] * 11\n",
    "    ),\n",
    "    'Language': ['Czech','English','Estonian','German','Greek',\n",
    "                 'Icelandic','Italian','Latvian','Slovenian','Swedish','Ukrainian'] * 6,\n",
    "    'Count': [\n",
    "        # MultiGEC-minimal\n",
    "        12564, 5050,   258, 1033, 1289,   0,  813, 1015,  109,  502, 1872,\n",
    "        # MultiGEC-fluency\n",
    "           0,    0,  1761,    0,    0, 369,    0,    0,    0,    0, 1872,\n",
    "        # OmniGEC\n",
    "        18402,51671,10728,46937, 8196, 220,16440, 6869, 9160, 2546,7551,\n",
    "        # WikiEdits-MultiGEC\n",
    "          511, 6807,   55, 2386,  212,   0, 3142,   33,   38,  293,2519,\n",
    "        # Reddit-MultiGEC\n",
    "        17891,51671,10673,44551, 7984, 220,13298, 6836, 9122, 2253,5032,\n",
    "        # UberText-GEC\n",
    "           0,    0,    0,    0,    0,   0,    0,    0,    0,    0,199951\n",
    "    ]\n",
    "}\n",
    "df = pd.DataFrame(data)\n",
    "\n",
    "# 2) Drop the real \"OmniGEC\" rows (we use it as a meta‑group)\n",
    "df = df[df['Dataset'] != 'OmniGEC']\n",
    "\n",
    "# 3) Pivot and sort languages by descending total\n",
    "pivot = df.pivot(index='Language', columns='Dataset', values='Count')\n",
    "order = pivot.sum(axis=1).sort_values(ascending=False).index\n",
    "pivot = pivot.loc[order]\n",
    "\n",
    "# 4) Reorder so UberText‑GEC is last\n",
    "cols = [c for c in pivot.columns if c != 'UberText-GEC'] + ['UberText-GEC']\n",
    "pivot = pivot[cols]\n",
    "\n",
    "# 5) Mask zeros for gray cells\n",
    "masked = np.ma.masked_equal(pivot.values, 0)\n",
    "\n",
    "# 6) Plot heatmap\n",
    "fig, ax = plt.subplots(figsize=(10, 8))\n",
    "norm = LogNorm(vmin=masked.min(), vmax=masked.max())\n",
    "cax = ax.matshow(masked, aspect='auto', cmap='Blues', norm=norm, alpha=0.5)\n",
    "\n",
    "# 7) Colorbar with 5 log‑spaced ticks (formatted with commas)\n",
    "cbar = fig.colorbar(cax, ax=ax, label='Samples (log scale)')\n",
    "vmin, vmax = masked.min(), masked.max()\n",
    "tick_locs = np.logspace(np.log10(vmin), np.log10(vmax), num=5)\n",
    "cbar.set_ticks(tick_locs)\n",
    "cbar.set_ticklabels([f\"{int(t):,}\" for t in tick_locs])\n",
    "\n",
    "# 8) Individual corpus labels at bottom\n",
    "n_cols = pivot.shape[1]\n",
    "ax.set_xticks(np.arange(n_cols))\n",
    "ax.set_xticklabels(pivot.columns, ha='center', rotation=0)\n",
    "ax.xaxis.set_ticks_position('bottom')\n",
    "ax.tick_params(axis='x', bottom=True, top=False)\n",
    "\n",
    "# 9) Meta‑group labels above\n",
    "first_group = 2\n",
    "second_group = n_cols - first_group\n",
    "frac1 = first_group / n_cols\n",
    "frac2 = second_group / n_cols\n",
    "\n",
    "ax.text(frac1/2, 1.025, 'MultiGEC-25 Comp.',\n",
    "        transform=ax.transAxes, ha='center', va='bottom', weight='bold')\n",
    "ax.text(frac1 + frac2/2, 1.025, 'OmniGEC',\n",
    "        transform=ax.transAxes, ha='center', va='bottom', weight='bold')\n",
    "\n",
    "ax.axvline(x=first_group - 0.5, color='black', linewidth=1)\n",
    "\n",
    "# 10) Language labels on left\n",
    "ax.set_yticks(np.arange(pivot.shape[0]))\n",
    "ax.set_yticklabels(pivot.index)\n",
    "\n",
    "# 11) Annotate cells with commas for thousands\n",
    "for i in range(pivot.shape[0]):\n",
    "    for j in range(n_cols):\n",
    "        val = pivot.iat[i, j]\n",
    "        txt = f\"{val:,}\" if val > 0 else \"–\"\n",
    "        ax.text(j, i, txt, ha='center', va='center', fontsize=9)\n",
    "\n",
    "plt.tight_layout()\n",
    "plt.savefig(\"corpus_data.png\")\n",
    "plt.show()\n"
   ]
  },
  {
   "cell_type": "code",
   "execution_count": null,
   "outputs": [],
   "source": [
    "df = pd.read_csv(\"../../datasets/ubertext/ubertext_social_silver_post_slim.csv\")\n",
    "df"
   ],
   "metadata": {
    "collapsed": false
   }
  },
  {
   "cell_type": "code",
   "execution_count": null,
   "outputs": [],
   "source": [
    "!pip install seaborn"
   ],
   "metadata": {
    "collapsed": false
   }
  },
  {
   "cell_type": "code",
   "execution_count": null,
   "outputs": [],
   "source": [
    "import seaborn as sns\n",
    "\n",
    "# re‑use the same df_long from above\n",
    "\n",
    "fig, axes = plt.subplots(1, 3, figsize=(18, 6), sharey=True)\n",
    "for ax, split in zip(axes, ['train','val','test']):\n",
    "    mat = (\n",
    "        df_long[df_long['Split']==split]\n",
    "        .pivot(index='Language', columns='Dataset', values='Count')\n",
    "    )\n",
    "    sns.heatmap(mat,\n",
    "                ax=ax,\n",
    "                annot=True, fmt=\".0f\",\n",
    "                cbar=ax is axes[-1],        # only one colorbar\n",
    "                cmap=\"viridis\",\n",
    "                linewidths=.5)\n",
    "    ax.set_title(split.capitalize())\n",
    "    ax.tick_params(axis='x', rotation=45)\n",
    "\n",
    "fig.tight_layout()\n",
    "plt.show()\n"
   ],
   "metadata": {
    "collapsed": false
   }
  }
 ],
 "metadata": {
  "kernelspec": {
   "display_name": "Python 3",
   "language": "python",
   "name": "python3"
  },
  "language_info": {
   "codemirror_mode": {
    "name": "ipython",
    "version": 2
   },
   "file_extension": ".py",
   "mimetype": "text/x-python",
   "name": "python",
   "nbconvert_exporter": "python",
   "pygments_lexer": "ipython2",
   "version": "2.7.6"
  }
 },
 "nbformat": 4,
 "nbformat_minor": 0
}
