{
 "cells": [
  {
   "cell_type": "code",
   "execution_count": null,
   "metadata": {
    "collapsed": true
   },
   "outputs": [],
   "source": [
    "import pandas as pd"
   ]
  },
  {
   "cell_type": "code",
   "execution_count": null,
   "outputs": [],
   "source": [
    "wiki_edits_df = pd.read_csv(\"../../datasets/wikiedits_multigec/wikiedits_multigec.csv\")\n",
    "wiki_edits_df"
   ],
   "metadata": {
    "collapsed": false
   }
  },
  {
   "cell_type": "code",
   "execution_count": null,
   "outputs": [],
   "source": [
    "LANG_TO_CODE: dict[str, str] = {\n",
    "    \"czech\": \"cs\",\n",
    "    \"english\": \"en\",\n",
    "    \"estonian\": \"et\",\n",
    "    \"german\": \"de\",\n",
    "    \"greek\": \"el\",\n",
    "    \"icelandic\": \"is\",\n",
    "    \"italian\": \"it\",\n",
    "    \"latvian\": \"lv\",\n",
    "    \"slovene\": \"sl\",\n",
    "    \"swedish\": \"sv\",\n",
    "    \"ukrainian\": \"uk\"\n",
    "}\n",
    "\n",
    "CODE_TO_LANG = {\n",
    "    v: k\n",
    "    for k, v in LANG_TO_CODE.items()\n",
    "}\n",
    "\n",
    "wiki_edits_df.loc[:, \"language\"] = wiki_edits_df.loc[:, \"code_lang\"].map(lambda x: CODE_TO_LANG[x])\n",
    "wiki_edits_df = wiki_edits_df.loc[:, [\n",
    "    \"language\",\n",
    "    \"text_del_clean\",\n",
    "    \"text_ins_clean\"\n",
    "]].rename(columns={\n",
    "    \"text_del_clean\": \"feature\",\n",
    "    \"text_ins_clean\": \"target\",\n",
    "})\n",
    "wiki_edits_df.loc[:, \"corpora\"] = \"wikiedits\"\n",
    "\n",
    "wiki_edits_df"
   ],
   "metadata": {
    "collapsed": false
   }
  },
  {
   "cell_type": "code",
   "execution_count": null,
   "outputs": [],
   "source": [
    "def split_by_language(df, lang_col='language', split_col='split', train_frac=0.8, val_frac=0.1, seed=42):\n",
    "    # Make a copy to avoid modifying the original DataFrame\n",
    "    df = df.copy()\n",
    "\n",
    "    # Function that assigns split labels within each language group\n",
    "    def _assign_split(group):\n",
    "        # Shuffle each group\n",
    "        group = group.sample(frac=1, random_state=seed).reset_index(drop=True)\n",
    "\n",
    "        # Calculate boundaries\n",
    "        total = len(group)\n",
    "        train_end = int(total * train_frac)\n",
    "        val_end = int(total * (train_frac + val_frac))\n",
    "\n",
    "        # Assign split\n",
    "        group.loc[:train_end - 1, split_col] = 'train'\n",
    "        group.loc[train_end:val_end - 1, split_col] = 'val'\n",
    "        group.loc[val_end:, split_col] = 'test'\n",
    "\n",
    "        return group\n",
    "\n",
    "    # Group by language, shuffle, then label\n",
    "    df = df.groupby(lang_col, group_keys=False).apply(_assign_split)\n",
    "\n",
    "    return df\n",
    "\n",
    "wiki_edits_df = split_by_language(wiki_edits_df, lang_col='language')\n",
    "wiki_edits_df"
   ],
   "metadata": {
    "collapsed": false
   }
  },
  {
   "cell_type": "code",
   "execution_count": null,
   "outputs": [],
   "source": [
    "wiki_edits_df.groupby([\"language\", \"split\"]).count()[\"feature\"]"
   ],
   "metadata": {
    "collapsed": false
   }
  },
  {
   "cell_type": "code",
   "execution_count": null,
   "outputs": [],
   "source": [
    "wiki_edits_df.groupby([\"split\"]).count()[\"feature\"]"
   ],
   "metadata": {
    "collapsed": false
   }
  },
  {
   "cell_type": "code",
   "execution_count": null,
   "outputs": [],
   "source": [
    "track = \"fluency\"\n",
    "\n",
    "multigec_df = pd.read_csv(f\"../../datasets/multigec/multigec_{track}.csv\")\n",
    "multigec_df"
   ],
   "metadata": {
    "collapsed": false
   }
  },
  {
   "cell_type": "code",
   "execution_count": null,
   "outputs": [],
   "source": [
    "multigec_df = multigec_df.loc[:, [\n",
    "    \"language\",\n",
    "    \"feature\",\n",
    "    \"target\",\n",
    "    \"split\",\n",
    "]]\n",
    "multigec_df.loc[:, \"corpora\"] = \"multigec\"\n",
    "multigec_df"
   ],
   "metadata": {
    "collapsed": false
   }
  },
  {
   "cell_type": "code",
   "execution_count": null,
   "outputs": [],
   "source": [
    "omnigec_df = pd.concat([\n",
    "    multigec_df,\n",
    "    wiki_edits_df,\n",
    "])\n",
    "omnigec_df"
   ],
   "metadata": {
    "collapsed": false
   }
  },
  {
   "cell_type": "code",
   "execution_count": null,
   "outputs": [],
   "source": [
    "omnigec_df.groupby([\"split\", \"corpora\"]).count()[\"feature\"]"
   ],
   "metadata": {
    "collapsed": false
   }
  },
  {
   "cell_type": "code",
   "execution_count": null,
   "outputs": [],
   "source": [
    "omnigec_df.reset_index(drop=True).to_csv(f\"../../datasets/omnigec_model_training/multigec_wikiedits_{track}.csv\")"
   ],
   "metadata": {
    "collapsed": false
   }
  }
 ],
 "metadata": {
  "kernelspec": {
   "display_name": "Python 3",
   "language": "python",
   "name": "python3"
  },
  "language_info": {
   "codemirror_mode": {
    "name": "ipython",
    "version": 2
   },
   "file_extension": ".py",
   "mimetype": "text/x-python",
   "name": "python",
   "nbconvert_exporter": "python",
   "pygments_lexer": "ipython2",
   "version": "2.7.6"
  }
 },
 "nbformat": 4,
 "nbformat_minor": 0
}
