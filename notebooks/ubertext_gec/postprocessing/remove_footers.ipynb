{
 "cells": [
  {
   "cell_type": "code",
   "execution_count": null,
   "metadata": {
    "collapsed": true
   },
   "outputs": [],
   "source": [
    "import pandas as pd"
   ]
  },
  {
   "cell_type": "code",
   "execution_count": null,
   "outputs": [],
   "source": [
    "df = pd.read_csv(\"../../../datasets/ubertext_gec/pre_post_processing_ubertext_gec.csv\")\n",
    "df"
   ],
   "metadata": {
    "collapsed": false
   }
  },
  {
   "cell_type": "code",
   "execution_count": null,
   "outputs": [],
   "source": [
    "import re\n",
    "\n",
    "PATTERN = (\n",
    "    r'(?i)'  # нечутливість до регістру\n",
    "    r'(👉|'                                 # 1. емодзі \"👉\"\n",
    "    r'підписатися|'                         # 2. \"підписатися\"\n",
    "    r'підписуватися|'                       # 3. \"підписуватися\"\n",
    "    r'підписуйтеся\\s+на\\s+укрінформ\\.?|'    # 4. \"Підписуйтеся на Укрінформ.\"\n",
    "    r'підписуйтеся\\s+на\\s+zn\\.ua\\.?|'       # 5. \"Підписуйтеся на ZN.UA.\"\n",
    "    r'підписатися\\s+на\\s+zn\\.ua\\.?|'        # **НОВИЙ**: \"Підписатися на ZN.UA.\"\n",
    "    r'приєднуйтесь\\s+до\\s+zn\\.ua\\.?|'       # **НОВИЙ**: \"Приєднуйтесь до ZN.UA.\"\n",
    "    r'підпишіться\\s+на\\s+нв|'               # 6. \"Підпишіться на НВ\"\n",
    "    r'підтримати\\s+нв|'                     # 7. \"Підтримати НВ\"\n",
    "    r'апостроф\\s*\\|\\s*підписатися|'         # 8. \"апостроф | підписатися\"\n",
    "    r'новина\\s*російською|'                 # 9. \"новина російською\"\n",
    "    r'новостьна\\s*русском|'                 # 10. \"новостьна русском\"\n",
    "    r'(?:[A-Za-z]+|[^\\s]*@[^\\s]*)\\s*$|'                           # 11. \"@\"\n",
    "    r'(?<![.\\w])ua(?![.\\w])|'               # 12. \"ua\" як окреме слово (не в доменах)\n",
    "    r'facebook\\s*\\|\\s*instagram\\s*\\|\\s*twitter|'  # 13. \"Facebook | Instagram | Twitter\"\n",
    "    r'facebook\\s*\\|\\s*youtube\\s*\\|\\s*instagram\\s*\\|\\s*telegram|'  # 14. ще один перелік соцмереж\n",
    "    r'📚\\s*(?:этот материал также можно читать(?:\\s*на\\s*русском)?|'\n",
    "    r'цей матеріал також доступний російською мовою)|'  # 15. матеріали з емодзі \"📚\"\n",
    "    r'статтю\\s+можна\\s+прочитати\\s*російською\\s+мовою|'  # 16. \"Статтю можна прочитати російською мовою\"\n",
    "    r'(?:підписат(?:ись|атися)\\s*\\|\\s*сайт\\s*\\|\\s*(?:fb|facebook)\\s*\\|\\s*youtube\\s*\\|\\s*підтримати\\s*нас)|'  # 17. блок \"Підписатись | Сайт | FB | ...\"\n",
    "    r'статья\\s+также\\s+доступна\\s*русском|'             # 18. \"Статья также доступна русском\"\n",
    "    r'стаття\\s+також\\s+доступна\\s+російською|'          # 19. \"Стаття також доступна російською\"\n",
    "    r'📷\\s*юрій\\s+журавель|'                             # 20. \"📷 Юрій Журавель\"\n",
    "    # Футерні кейси для Espreso:\n",
    "    r'▪️\\s*більше\\s+новин\\s+читайте\\s+на\\s+espreso(?:\\s*tv\\.?)?(?:\\s*.*)?|'\n",
    "    r'tv\\.|'\n",
    "    r'еспресо\\s*\\||'\n",
    "    # Кейси для читання російською:\n",
    "    r'читать\\s*нарусск\\s*ом\\.?|'             # \"Читать нарусск ом.\"\n",
    "    r'читайте\\s+російською\\.?|'              # \"Читайте російською.\"\n",
    "    # Промо-рядок «Усі новини світу ТУТ ➡»\n",
    "    r'усі\\s+новини\\s+світу\\s+тут\\s*➡?\\s*https?://\\S+|'\n",
    "    # \"🔷️...\"\n",
    "    r'🔷️\\s*підписатися\\s+на\\s+zn\\.?'\n",
    "    r').*?$'\n",
    ")\n",
    "\n",
    "\n",
    "def remove_footer_lines(text):\n",
    "    pattern = PATTERN\n",
    "\n",
    "    cleaned = re.sub(pattern, '', text, flags=re.MULTILINE)\n",
    "    cleaned = re.sub(r'\\n+', '\\n', cleaned).strip()\n",
    "\n",
    "    return cleaned\n",
    "\n",
    "df['feature_cleaned'] = df['feature'].apply(remove_footer_lines)\n",
    "df['target_cleaned'] = df['target'].apply(remove_footer_lines)"
   ],
   "metadata": {
    "collapsed": false
   }
  },
  {
   "cell_type": "code",
   "execution_count": null,
   "outputs": [],
   "source": [
    "for sample_index in df.sample(15).index:\n",
    "    sample = df.iloc[sample_index]\n",
    "\n",
    "    print(\"> Feature: \")\n",
    "    print(sample[\"feature\"])\n",
    "\n",
    "    print(\"> Cleaned Feature: \")\n",
    "    print(sample[\"feature_cleaned\"])\n",
    "\n",
    "    print(\"> Target\")\n",
    "    print(sample[\"target\"])\n",
    "\n",
    "    print(\"> Cleaned Target: \")\n",
    "    print(sample[\"target_cleaned\"])\n",
    "\n",
    "    print(\"------------------------------------------\")"
   ],
   "metadata": {
    "collapsed": false
   }
  },
  {
   "cell_type": "code",
   "execution_count": null,
   "outputs": [],
   "source": [
    "df[\"feature_len\"] = df.feature.str.len()\n",
    "df[\"feature_cleaned_len\"] = df.feature_cleaned.str.len()\n",
    "df[\"target_len\"] = df.target.str.len()\n",
    "df[\"target_cleaned_len\"] = df.target_cleaned.str.len()\n",
    "\n",
    "df[\"feature_diff\"] = df[\"feature_len\"] - df[\"feature_cleaned_len\"]\n",
    "df[\"target_diff\"] = df[\"target_len\"] - df[\"target_cleaned_len\"]\n",
    "df"
   ],
   "metadata": {
    "collapsed": false
   }
  },
  {
   "cell_type": "code",
   "execution_count": null,
   "outputs": [],
   "source": [
    "import holoviews as hv\n",
    "import hvplot.pandas\n",
    "\n",
    "(df.target_diff.hvplot.box(width=1000, grid=True, invert=True, tools=[\"zoom_in\", \"zoom_out\", \"hover\"], label=\"Target\") + df.feature_diff.hvplot.box(width=1000, grid=True, invert=True, tools=[\"zoom_in\", \"zoom_out\", \"hover\"], label=\"Feature\")).cols(1)"
   ],
   "metadata": {
    "collapsed": false
   }
  },
  {
   "cell_type": "code",
   "execution_count": null,
   "outputs": [],
   "source": [
    "df[\"target_final\"] = df.apply(lambda x: x[\"target\"] if x[\"target_diff\"] > 30 else x[\"target_cleaned\"], axis=1)\n",
    "df[\"feature_final\"] = df.apply(lambda x: x[\"feature\"] if x[\"feature_diff\"] > 60 else x[\"feature_cleaned\"], axis=1)\n",
    "\n",
    "df"
   ],
   "metadata": {
    "collapsed": false
   }
  },
  {
   "cell_type": "code",
   "execution_count": null,
   "outputs": [],
   "source": [
    "len(df[df[\"target_diff\"] > 30]), len(df[df[\"feature_diff\"] > 60])"
   ],
   "metadata": {
    "collapsed": false
   }
  },
  {
   "cell_type": "code",
   "execution_count": null,
   "outputs": [],
   "source": [
    "df.loc[:, [\n",
    "    \"index\",\n",
    "    \"feature_final\",\n",
    "    \"target_final\"\n",
    "          ]].rename(columns={\n",
    "    \"feature_final\": \"feature\",\n",
    "    \"target_final\": \"target\"\n",
    "}).to_csv(\"../../../datasets/ubertext_gec/ubertext_gec.csv\", index=False)"
   ],
   "metadata": {
    "collapsed": false
   }
  },
  {
   "cell_type": "code",
   "execution_count": null,
   "outputs": [],
   "source": [
    "post_df = pd.read_csv(\"../../../datasets/ubertext_gec/ubertext_gec.csv\")"
   ],
   "metadata": {
    "collapsed": false
   }
  },
  {
   "cell_type": "code",
   "execution_count": null,
   "outputs": [],
   "source": [
    "for sample_index in df.sample(5).index:\n",
    "    sample = post_df.iloc[sample_index]\n",
    "\n",
    "    print(sample_index)\n",
    "\n",
    "    print(\"> Feature: \")\n",
    "    print(sample[\"feature\"])\n",
    "\n",
    "    print(\"> Target\")\n",
    "    print(sample[\"target\"])\n",
    "\n",
    "    print(\"------------------------------------------\")"
   ],
   "metadata": {
    "collapsed": false
   }
  }
 ],
 "metadata": {
  "kernelspec": {
   "display_name": "Python 3",
   "language": "python",
   "name": "python3"
  },
  "language_info": {
   "codemirror_mode": {
    "name": "ipython",
    "version": 2
   },
   "file_extension": ".py",
   "mimetype": "text/x-python",
   "name": "python",
   "nbconvert_exporter": "python",
   "pygments_lexer": "ipython2",
   "version": "2.7.6"
  }
 },
 "nbformat": 4,
 "nbformat_minor": 0
}
