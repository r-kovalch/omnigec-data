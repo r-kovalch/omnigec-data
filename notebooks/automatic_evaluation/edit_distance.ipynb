{
 "cells": [
  {
   "cell_type": "code",
   "execution_count": null,
   "outputs": [],
   "source": [
    "!pip install python-Levenshtein\n",
    "!pip install textdistance"
   ],
   "metadata": {
    "collapsed": false
   }
  },
  {
   "cell_type": "code",
   "execution_count": null,
   "metadata": {
    "collapsed": true
   },
   "outputs": [],
   "source": [
    "import textdistance\n",
    "import pandas as pd\n",
    "from Levenshtein import distance as lev_distance"
   ]
  },
  {
   "cell_type": "code",
   "execution_count": null,
   "outputs": [],
   "source": [
    "corpora = \"wiki\" # \"reddit\" # \"uber\"\n",
    "\n",
    "eval_df = pd.read_csv(f\"../../datasets/automatic_evaluation/multiref.csv\")\n",
    "eval_df = eval_df.loc[~eval_df.isna().values].drop_duplicates()\n",
    "eval_df = eval_df.loc[:, [\n",
    "    \"feature\",\n",
    "    \"target\",\n",
    "    \"spivavtor_correction\",\n",
    "    \"pravopysnyk_correction\",\n",
    "    \"language_tool_correction\"\n",
    "]]\n",
    "eval_df = eval_df.loc[~eval_df.pravopysnyk_correction.isna()]\n",
    "eval_df = eval_df.loc[~eval_df.correction.isna()]\n",
    "eval_df.loc[eval_df.loc[:, \"corpora\"] == corpora]"
   ],
   "metadata": {
    "collapsed": false
   }
  },
  {
   "cell_type": "code",
   "execution_count": null,
   "outputs": [],
   "source": [
    "eval_df['feature_target_lev_distance'] = eval_df.apply(lambda row: lev_distance(row['text'], row['correction']), axis=1)\n",
    "eval_df['feature_target_dam_lev_distance'] = eval_df.apply(lambda row: textdistance.damerau_levenshtein.distance(row['text'], row['correction']), axis=1)"
   ],
   "metadata": {
    "collapsed": false
   }
  },
  {
   "cell_type": "code",
   "execution_count": null,
   "outputs": [],
   "source": [
    "evals_lev_dist      = eval_df.feature_target_lev_distance.mean()\n",
    "evals_dam_lev_dist  = eval_df.feature_target_dam_lev_distance.mean()\n",
    "\n",
    "print(f\"\"\"\n",
    "Average feature to target edit distance in {corpora}\n",
    "\n",
    "Levenshtein distance: {evals_lev_dist:.2f}\n",
    "Damerau–Levenshtein distance (with swaps): {evals_dam_lev_dist:.2f}\n",
    "\"\"\")"
   ],
   "metadata": {
    "collapsed": false
   }
  },
  {
   "cell_type": "code",
   "execution_count": null,
   "outputs": [],
   "source": [
    "eval_df['denom'] = eval_df.apply(\n",
    "    lambda r: max(len(r['feature']), len(r['target'])), axis=1\n",
    ")\n",
    "\n",
    "# Compute edits per 100 chars\n",
    "eval_df['edits_per_100'] = eval_df['feature_target_dam_lev_distance'] / eval_df['denom'] * 100\n",
    "\n",
    "cer = eval_df['edits_per_100'].mean()\n",
    "\n",
    "print(f\"Average edits/100 chars (Damerau-Levenshtein CER) in {corpora}: {cer\")"
   ],
   "metadata": {
    "collapsed": false
   }
  },
  {
   "cell_type": "code",
   "execution_count": null,
   "outputs": [],
   "source": [
    "eval_df['denom'] = eval_df.apply(\n",
    "    lambda r: max(len(r['feature']), len(r['target'])), axis=1\n",
    ")\n",
    "\n",
    "# Compute edits per 100 chars\n",
    "eval_df['edits_per_100'] = eval_df['feature_target_lev_distance'] / eval_df['denom'] * 100\n",
    "\n",
    "dam_cer = eval_df['edits_per_100'].mean()\n",
    "\n",
    "print(f\"Average edits/100 chars (CER) in {corpora}: {dam_cer\")"
   ],
   "metadata": {
    "collapsed": false
   }
  },
  {
   "cell_type": "code",
   "execution_count": null,
   "outputs": [],
   "source": [
    "results = {\n",
    "    \"edit-distance\": evals_lev_dist,\n",
    "    \"edit-distance (Damerau-Levenshtein)\": evals_dam_lev_dist,\n",
    "    \"cer\": cer,\n",
    "    \"dam_cer\": dam_cer,\n",
    "}\n",
    "results_df = pd.DataFrame([results])\n",
    "results_df.to_csv(f\"../../datasets/automatic_evaluation/{corpora}_edit_distance.csv\", index=False)"
   ],
   "metadata": {
    "collapsed": false
   }
  }
 ],
 "metadata": {
  "kernelspec": {
   "display_name": "Python 3",
   "language": "python",
   "name": "python3"
  },
  "language_info": {
   "codemirror_mode": {
    "name": "ipython",
    "version": 2
   },
   "file_extension": ".py",
   "mimetype": "text/x-python",
   "name": "python",
   "nbconvert_exporter": "python",
   "pygments_lexer": "ipython2",
   "version": "2.7.6"
  }
 },
 "nbformat": 4,
 "nbformat_minor": 0
}
