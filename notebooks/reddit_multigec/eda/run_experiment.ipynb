{
 "cells": [
  {
   "cell_type": "code",
   "execution_count": 62,
   "outputs": [
    {
     "name": "stdout",
     "output_type": "stream",
     "text": [
      "Requirement already satisfied: ansi2html in /Users/rkovalch/miniconda3/envs/llmqna/lib/python3.10/site-packages (1.9.2)\r\n"
     ]
    }
   ],
   "source": [
    "!pip install ansi2html"
   ],
   "metadata": {
    "collapsed": false,
    "ExecuteTime": {
     "end_time": "2024-11-11T12:31:48.582961Z",
     "start_time": "2024-11-11T12:31:46.606199Z"
    }
   }
  },
  {
   "cell_type": "code",
   "execution_count": 61,
   "outputs": [],
   "source": [
    "text = \"\"\"Добрий день я вам був писав в мене були винекли\n",
    "деякі проблеми якщо можна я завтра буду на робочому місті ?\"\"\""
   ],
   "metadata": {
    "collapsed": false,
    "ExecuteTime": {
     "end_time": "2024-11-11T12:31:46.617677Z",
     "start_time": "2024-11-11T12:31:46.602302Z"
    }
   }
  },
  {
   "cell_type": "code",
   "execution_count": 63,
   "outputs": [],
   "source": [
    "import ast\n",
    "import os\n",
    "import re\n",
    "import nltk\n",
    "import mlflow\n",
    "import pandas as pd\n",
    "import tiktoken\n",
    "from dotenv import load_dotenv\n",
    "from omegaconf import OmegaConf\n",
    "from openai import OpenAI\n",
    "from flatten_dict import flatten\n",
    "\n",
    "from src.prompts.reddit_multigec import multi_gec_prompt_per_language\n",
    "from src.utils.metrics import average_edit_distance\n",
    "from src.utils.utils import normalize_spaces, generate_original_corrected_texts\n",
    "from src.utils.comparison_to_html import save_comparison_to_html\n",
    "from src.prompts.reddit_multigec import gec_aggregation_prompt_per_language"
   ],
   "metadata": {
    "collapsed": false,
    "ExecuteTime": {
     "end_time": "2024-11-11T12:31:48.587502Z",
     "start_time": "2024-11-11T12:31:48.585125Z"
    }
   }
  },
  {
   "cell_type": "code",
   "execution_count": 64,
   "outputs": [
    {
     "data": {
      "text/plain": "True"
     },
     "execution_count": 64,
     "metadata": {},
     "output_type": "execute_result"
    }
   ],
   "source": [
    "load_dotenv(\"../../.env\")"
   ],
   "metadata": {
    "collapsed": false,
    "ExecuteTime": {
     "end_time": "2024-11-11T12:31:48.592351Z",
     "start_time": "2024-11-11T12:31:48.588136Z"
    }
   }
  },
  {
   "cell_type": "code",
   "execution_count": 65,
   "outputs": [
    {
     "data": {
      "text/plain": "<Experiment: artifact_location='mlflow-artifacts:/875882461670179036', creation_time=1731081700081, experiment_id='875882461670179036', last_update_time=1731081700081, lifecycle_stage='active', name='reddit_ua_exploratory', tags={}>"
     },
     "execution_count": 65,
     "metadata": {},
     "output_type": "execute_result"
    }
   ],
   "source": [
    "parameters = OmegaConf.load(\"./parameters.yaml\")\n",
    "mlflow.set_tracking_uri(os.environ.get(\"MLFLOW_TRACKING_URI\"))\n",
    "mlflow.set_experiment(parameters.experiment.experiment_name)"
   ],
   "metadata": {
    "collapsed": false,
    "ExecuteTime": {
     "end_time": "2024-11-11T12:31:48.631479Z",
     "start_time": "2024-11-11T12:31:48.593906Z"
    }
   }
  },
  {
   "cell_type": "code",
   "execution_count": 66,
   "outputs": [],
   "source": [
    "tokenizer = tiktoken.encoding_for_model(parameters.tokenizer.model_name)"
   ],
   "metadata": {
    "collapsed": false,
    "ExecuteTime": {
     "end_time": "2024-11-11T12:31:48.631723Z",
     "start_time": "2024-11-11T12:31:48.613305Z"
    }
   }
  },
  {
   "cell_type": "code",
   "execution_count": 67,
   "outputs": [
    {
     "data": {
      "text/plain": "32"
     },
     "execution_count": 67,
     "metadata": {},
     "output_type": "execute_result"
    }
   ],
   "source": [
    "input_text_tokens = len(tokenizer.encode(text))\n",
    "input_text_tokens"
   ],
   "metadata": {
    "collapsed": false,
    "ExecuteTime": {
     "end_time": "2024-11-11T12:31:48.632027Z",
     "start_time": "2024-11-11T12:31:48.615742Z"
    }
   }
  },
  {
   "cell_type": "code",
   "execution_count": 68,
   "outputs": [],
   "source": [
    "pd.set_option('display.max_colwidth', None)\n",
    "pd.set_option('display.max_columns', None)\n",
    "pd.set_option('display.max_rows', 30)"
   ],
   "metadata": {
    "collapsed": false,
    "ExecuteTime": {
     "end_time": "2024-11-11T12:31:48.632066Z",
     "start_time": "2024-11-11T12:31:48.624624Z"
    }
   }
  },
  {
   "cell_type": "code",
   "execution_count": 70,
   "outputs": [
    {
     "name": "stdout",
     "output_type": "stream",
     "text": [
      "Виправте наступний текст, зробивши його граматично правильним.\n",
      "Виправте всі орфографічні, пунктуаційні, стилістичні, граматичні, лексичні та синтаксичні помилки.\n",
      "Якщо помилок немає, повторіть оригінальний текст.\n",
      "Згенеруйте 3 різні варіанти виправленого тексту з поясненнями.\n",
      "\n",
      "Формат відповіді у JSON:\n",
      "[{\n",
      "    \"correction\": \"виправлений текст\",\n",
      "    \"explanation\": \"пояснення до виправлення\"\n",
      "}, ...]\n",
      "\n",
      "Приклади:\n",
      "\n",
      "1. Вхідний текст:\n",
      "   Останні 3 місяці мого життя видалися аж занадто насиченими на події та емоції, але ось нарешті у мене з’явилося декілька вільних годин та трохи енергії щоб продовжити серію записів щодо мого досвіду блогерства.\n",
      "\n",
      "   Виправлення:\n",
      "   [(\"Останні три місяці мого життя були надзвичайно насиченими подіями та емоціями, але нарешті у мене з’явилося кілька вільних годин та трохи енергії, щоб продовжити серію записів щодо свого досвіду блогерства.\", \"Замінено '3' на 'три' для узгодженості стилю; замінено 'декілька' на 'кілька' для кращого стилю; додано кому після 'енергії' відповідно до правил пунктуації; замінено 'мого' на 'свого' для стилістичної узгодженості.\"),\n",
      "   (\"Протягом останніх трьох місяців моє життя було надзвичайно насиченим подіями та емоціями, але тепер у мене з’явилося кілька вільних годин і трохи енергії, щоб продовжити серію записів про свій досвід блогерства.\", \"Перефразовано речення для кращої читабельності; виправлено пунктуацію та займенники для узгодження.\"),\n",
      "   (\"Після трьох дуже насичених місяців нарешті знайшов кілька вільних годин та трохи енергії, щоб продовжити серію записів про свій блогерський досвід.\", \"Скорочено та спрощено речення; виправлено стилістичні помилки для покращення читання.\")]\n",
      "\n",
      "2. Вхідний текст:\n",
      "   Мені завжди було цікаво читати статті про життя закордоном. Але в них, на мій погляд, завжди не вистачало системності.\n",
      "\n",
      "   Виправлення:\n",
      "   [(\"Мені завжди було цікаво читати статті про життя за кордоном. Але їм, як на мене, завжди бракувало систематичності.\", \"Виправлено орфографічну помилку 'закордоном' на 'за кордоном'; замінено 'в них' на 'їм' для правильного відмінка; замінено фразу 'на мій погляд' на 'як на мене' для кращого стилю; замінено 'не вистачало' на 'бракувало'; змінено 'системності' на 'систематичності' для точнішого вираження.\"),\n",
      "   (\"Я завжди цікавився статтями про життя за кордоном, але, як на мене, їм завжди бракувало систематичності.\", \"Перебудовано речення для кращої стилістики; виправлено орфографію та граматичні помилки.\"),\n",
      "   (\"Мені було цікаво читати про життя за кордоном, але, як на мене, ці статті завжди бракували систематичності.\", \"Спрощено речення; виправлено помилки та покращено плавність викладу.\")]\n",
      "\n",
      "3. Вхідний текст:\n",
      "   Не знаю як у інших, а у мене в житті траплялось не так багато див.\n",
      "\n",
      "   Виправлення:\n",
      "   [(\"Не знаю, як у інших, а у мене в житті траплялось не так багато див.\", \"Додано кому після 'не знаю' згідно з правилами пунктуації.\"),\n",
      "   (\"Не знаю, як в інших, а у мене в житті траплялося не так багато чудес.\", \"Додано кому; замінено 'у інших' на 'в інших'; виправлено форму дієслова; замінено 'див' на 'чудес' для кращої лексичної відповідності.\"),\n",
      "   (\"Не знаю, як у інших, але в моєму житті не було багато чудес.\", \"Додано кому; перебудовано речення для більшої зрозумілості.\")]\n",
      "\n",
      "4. Вхідний текст:\n",
      "   Я навіть писав про свої співбесіди та роботу, власні думки.\n",
      "\n",
      "   Виправлення:\n",
      "   [(\"Я навіть писав про свої співбесіди, роботу та власні думки.\", \"Додано кому для правильного розділення переліку.\"),\n",
      "   (\"Я навіть писав про свої співбесіди, роботу і власні думки.\", \"Додано сполучник 'і' для завершення переліку.\"),\n",
      "   (\"Я навіть ділився власними думками та писав про співбесіди і роботу.\", \"Перебудовано речення для покращення стилю.\")]\n",
      "\n",
      "5. Вхідний текст: Моя сестра старше мене на три роки, але ми дуже добре ладнаємо.\n",
      "\n",
      "    Виправлення: \n",
      "    [(\"Моя сестра старша за мене на три роки, але ми дуже добре ладнаємо.\", \"Замінено 'старше' на 'старша' для узгодження роду; додано прийменник 'за' відповідно до граматичних правил.\"),\n",
      "    (\"Хоча моя сестра на три роки старша за мене, ми дуже добре ладнаємо.\", \"Перебудовано речення для покращення стилістики; виправлено граматичні помилки.\"),\n",
      "    (\"Ми з сестрою, яка старша за мене на три роки, дуже добре ладнаємо.\", \"Перефразовано речення; додано уточнення для покращення зв'язності.\")]\n",
      "\n",
      "6. Вхідний текст:\n",
      "\n",
      "   Третій спосіб, на котрий витрачають час звичайні користувачі – лайки та підписки на інших користувачів у надії на те, що ті підпишуться у відповідь.\n",
      "\n",
      "   Виправлення:\n",
      "   [(\"Третій спосіб, на який витрачають час звичайні користувачі, — вподобання та підписки на інших користувачів у надії, що ті підпишуться у відповідь.\", \"Замінено 'на котрий' на 'на який' для граматичної правильності; додано тире для відокремлення пояснення; замінено 'лайки' на 'вподобання' для уникнення кальки.\"),\n",
      "   (\"Третій спосіб, на який звичайні користувачі витрачають час,— це вподобання та підписування на інших користувачів з надією, що ті підпишуться у відповідь.\", \"Перебудовано речення для покращення стилю; виправлено кальки та пунктуацію.\"),\n",
      "   (\"Звичайні користувачі часто витрачають час на вподобання і підписки на інших у надії на взаємність.\", \"Спрощено речення; виправлено стилістичні помилки та покращено зрозумілість.\")]\n",
      "\n",
      "7. Вхідний текст:\n",
      "   Я відразу ж вирішив, що буду буду писати все як є, щоб не вийшло такого, знаєте, ідеального Instagram, що показує лише приємні моменти.\n",
      "\n",
      "   Виправлення:\n",
      "   [(\"Я відразу вирішив, що писатиму все як є, щоб не вийшов такий, знаєте, ідеальний Instagram, який показує лише приємні моменти.\", \"Видалено зайве 'буду'; виправлено форму дієслова на 'писатиму'; замінено 'що' на 'який' для правильної сполучникової зв'язки.\"),\n",
      "   (\"Я одразу вирішив писати все як є, щоб не створити ідеальний Instagram, який показує лише приємні моменти.\", \"Спрощено та покращено речення; виправлено граматичні помилки.\"),\n",
      "   (\"Я вирішив відразу, що писатиму все без прикрас, щоб не створювати ідеальний Instagram, який показує тільки приємні моменти.\", \"Переформульовано для кращого стилю; виправлено помилки та покращено лексичний вибір.\")]\n",
      "\n",
      "8. Вхідний текст:\n",
      "   Ми збираємося поїхати в Карпати на наступному тижні, якщо буде хороша погода.\n",
      "\n",
      "   Виправлення: \n",
      "   [(\"Ми збираємося поїхати до Карпат наступного тижня, якщо буде гарна погода.\", \"Замінено 'в Карпати' на 'до Карпат' для правильного використання прийменника; замінено 'на наступному тижні' на 'наступного тижня'; замінено 'хороша' на 'гарна' відповідно до стилістичних норм.\"),\n",
      "   (\"Якщо погода буде гарною, ми плануємо поїздку до Карпат наступного тижня.\", \"Перебудовано речення для покращення стилю; використано 'гарною' замість 'хороша'; замінено 'збираємося поїхати' на 'плануємо поїздку'.\"),\n",
      "   (\"Наступного тижня ми поїдемо до Карпат, якщо буде гарна погода.\", \"Скорочено речення для чіткості; виправлено пунктуацію та використання прийменників.\")]\n",
      "\n",
      "9. Вхідний текст:\n",
      "   Він працює в цій компанії вже більше п'яти років, але досі не отримав підвищення.\n",
      "\n",
      "   Виправлення: \n",
      "   [(\"Він працює в цій компанії вже понад п’ять років, але досі не отримав підвищення.\", \"Замінено 'більше' на 'понад' для правильного вживання з числівниками.\"),\n",
      "   (\"Він уже п’ять років працює в цій компанії, але досі не був підвищений.\", \"Переставлено слова для покращення стилю; замінено 'отримав підвищення' на 'був підвищений' для різноманітності.\"),\n",
      "   (\"Працюючи в цій компанії понад п’ять років, він досі не отримав підвищення.\", \"Перебудовано речення для кращої стилістики; використано дієприкметниковий зворот.\")]\n",
      "\n",
      "10. Вхідний текст:\n",
      "    Я завжди вважав, що вчитися програмуванню потрібно здебільшого на практиці. Ключовий момент - не лише розвʼязувати задачі чи вправи з підручника, а й займатися реальним проектом. Це може бути будь-що, що вам цікаво і (бажано) потрібно: калькулятор для улюбленої гри. Адже це вам буде 'треба', а не 'для галочки'.\n",
      "\n",
      "    Виправлення: \n",
      "    [(\"Я завжди вважав, що вчитися програмуванню потрібно здебільшого на практиці. Тут головне — не лише розв’язувати задачі чи вправи з підручника, а й займатися реальним проєктом. Це може бути будь-що, що вам цікаво і бажано потрібно: калькулятор для улюбленої гри. Адже це вам буде потрібно, а не 'для галочки'.\", \"Замінено 'Ключовий момент' на 'Тут головне' для покращення стилістики; прибрано дужки навколо 'бажано' як непотрібні; виправлено 'проект' на 'проєкт'; прибрано зайві лапки навколо 'треба' та замінено його на 'потрібно' для більш літературного стилю.\" ), \n",
      "    (\"Я завжди вважав, що програмуванню слід навчатися переважно на практиці. Важливо не тільки розв’язувати вправи з підручника, а й працювати над реальним проєктом. Це може бути щось цікаве і потрібне вам: калькулятор для улюбленої гри. Адже це вам буде потрібно, а не просто 'для галочки'.\", \"Перефразовано речення для покращення стилю; замінено 'Ключовий момент' на 'Важливо'; виправлено 'проект' на 'проєкт'; прибрано дужки; виправлено 'треба' на 'потрібно'; збережено лапки навколо 'для галочки' для підкреслення фразеологізму.\" ), \n",
      "    (\"На мою думку, програмування найкраще вивчати на практиці. Основне — не тільки розв’язувати вправи з підручника, а й займатися реальними проєктами. Це може бути все, що вас цікавить і є для вас потрібним: калькулятор для улюбленої гри. Адже це дійсно стане вам у пригоді, а не лише 'для галочки'.\", \"Перебудовано речення для кращої читабельності; замінено 'Ключовий момент' на 'Основне'; виправлено 'проект' на 'проєкт'; прибрано дужки; замінено 'треба' на 'потрібно'; використано фразеологізм 'стати у пригоді'; збережено лапки навколо 'для галочки' як фразеологізм.\" )]\n",
      "\n",
      "Вхідний текст: Добрий день я вам був писав в мене були винекли\n",
      "деякі проблеми якщо можна я завтра буду на робочому місті ?\n",
      "Виправлення:\n"
     ]
    }
   ],
   "source": [
    "\n",
    "\n",
    "language = \"ukrainian\"\n",
    "\n",
    "\n",
    "grammar_correction_prompt = multi_gec_prompt_per_language[language].prompt_template\n",
    "\n",
    "grammar_correction_prompt_formatted = grammar_correction_prompt.format(\n",
    "    text=text,\n",
    "    num_corrections=parameters.multi_gec.num_corrections\n",
    ")\n",
    "print(grammar_correction_prompt_formatted)"
   ],
   "metadata": {
    "collapsed": false,
    "ExecuteTime": {
     "end_time": "2024-11-11T12:31:48.632323Z",
     "start_time": "2024-11-11T12:31:48.628016Z"
    }
   }
  },
  {
   "cell_type": "code",
   "execution_count": 71,
   "outputs": [
    {
     "data": {
      "text/plain": "(3235, 3260)"
     },
     "execution_count": 71,
     "metadata": {},
     "output_type": "execute_result"
    }
   ],
   "source": [
    "grammar_correction_prompt_tokens = len(tokenizer.encode(grammar_correction_prompt.template))\n",
    "grammar_correction_prompt_formatted_tokens = len(tokenizer.encode(grammar_correction_prompt_formatted))\n",
    "grammar_correction_prompt_tokens, grammar_correction_prompt_formatted_tokens"
   ],
   "metadata": {
    "collapsed": false,
    "ExecuteTime": {
     "end_time": "2024-11-11T12:31:48.640802Z",
     "start_time": "2024-11-11T12:31:48.631244Z"
    }
   }
  },
  {
   "cell_type": "code",
   "execution_count": 72,
   "outputs": [
    {
     "data": {
      "text/plain": "(9649, 9566)"
     },
     "execution_count": 72,
     "metadata": {},
     "output_type": "execute_result"
    }
   ],
   "source": [
    "len(grammar_correction_prompt_formatted), len(grammar_correction_prompt.template)"
   ],
   "metadata": {
    "collapsed": false,
    "ExecuteTime": {
     "end_time": "2024-11-11T12:31:48.642488Z",
     "start_time": "2024-11-11T12:31:48.639784Z"
    }
   }
  },
  {
   "cell_type": "code",
   "execution_count": 73,
   "outputs": [
    {
     "name": "stdout",
     "output_type": "stream",
     "text": [
      "[{'correction': 'Добрий день! Я вам писав, у мене виникли деякі проблеми. Якщо можна, я завтра буду на робочому місці?', 'explanation': \"Додано знак оклику після 'Добрий день' для завершення привітання; виправлено 'винекли' на 'виникли' для правильного написання; додано коми для розділення частин речення; виправлено 'місті' на 'місці' для правильного вживання.\"}, {'correction': 'Добрий день! Я писав вам, у мене виникли деякі проблеми. Якщо можливо, я завтра буду на робочому місці.', 'explanation': \"Змінено порядок слів для покращення стилю; виправлено 'винекли' на 'виникли'; замінено 'якщо можна' на 'якщо можливо' для більш формального звучання; виправлено 'місті' на 'місці'.\"}, {'correction': 'Добрий день! Я писав вам, у мене виникли деякі проблеми. Чи можу я завтра бути на робочому місці?', 'explanation': \"Змінено 'якщо можна' на 'чи можу я' для покращення формулювання питання; виправлено 'винекли' на 'виникли'; додано знаки пунктуації для чіткості.\"}]\n"
     ]
    },
    {
     "data": {
      "text/plain": "(345, 105, 194)"
     },
     "execution_count": 73,
     "metadata": {},
     "output_type": "execute_result"
    }
   ],
   "source": [
    "client = OpenAI(api_key=os.environ.get(\"OPEN_AI_API_KEY\"))\n",
    "chat_completion = client.chat.completions.create(\n",
    "    messages=[\n",
    "        {\n",
    "            \"role\": \"user\",\n",
    "            \"content\": grammar_correction_prompt_formatted,\n",
    "        }\n",
    "    ],\n",
    "    temperature=parameters.multi_gec.temperature,\n",
    "    top_p=parameters.multi_gec.top_p,\n",
    "    model=parameters.multi_gec.model_name,\n",
    ")\n",
    "original_text = text\n",
    "multi_gec_raw_output = chat_completion.choices[0].message.content\n",
    "import json\n",
    "pattern = r'```json\\s*\\n(?P<json>([\\s\\S]*?))\\n```'\n",
    "matches = re.finditer(pattern, multi_gec_raw_output, re.MULTILINE)\n",
    "for match in matches:\n",
    "    json_content = match.group('json')\n",
    "    try:\n",
    "        multi_gec_output = json.loads(json_content)\n",
    "        print(multi_gec_output)\n",
    "    except json.JSONDecodeError as e:\n",
    "        print(\"Invalid JSON:\", e)\n",
    "else:\n",
    "    multi_gec_output = ast.literal_eval(multi_gec_raw_output.strip(\"```json\"))\n",
    "\n",
    "multi_gec_output_tokens = len(tokenizer.encode(multi_gec_raw_output))\n",
    "multi_gec_correction_output_tokens = len(tokenizer.encode(str([output[\"correction\"] for output in multi_gec_output])))\n",
    "multi_gec_explanation_output_tokens = len(tokenizer.encode(str([output[\"explanation\"] for output in multi_gec_output])))\n",
    "\n",
    "multi_gec_output_tokens, multi_gec_correction_output_tokens, multi_gec_explanation_output_tokens"
   ],
   "metadata": {
    "collapsed": false,
    "ExecuteTime": {
     "end_time": "2024-11-11T12:31:55.925759Z",
     "start_time": "2024-11-11T12:31:48.645184Z"
    }
   }
  },
  {
   "cell_type": "code",
   "execution_count": 74,
   "outputs": [
    {
     "name": "stdout",
     "output_type": "stream",
     "text": [
      "\n",
      "Correction: 0\n",
      "\n",
      "Original Text:\n",
      "Добрий \u001B[91m\u001B[1mдень\u001B[0m я вам \u001B[91m\u001B[1mбув\u001B[0m \u001B[91m\u001B[1mписав\u001B[0m \u001B[91m\u001B[1mв\u001B[0m мене \u001B[91m\u001B[1mбули\u001B[0m \u001B[91m\u001B[1mвинекли\u001B[0m деякі \u001B[91m\u001B[1mпроблеми\u001B[0m \u001B[91m\u001B[1mякщо\u001B[0m \u001B[91m\u001B[1mможна\u001B[0m я завтра буду на робочому \u001B[91m\u001B[1mмісті\u001B[0m \u001B[91m\u001B[1m?\u001B[0m\n",
      "\n",
      "Corrected Text:\n",
      "Добрий \u001B[92m\u001B[1mдень!\u001B[0m \u001B[92m\u001B[1mЯ\u001B[0m вам \u001B[92m\u001B[1mписав,\u001B[0m \u001B[92m\u001B[1mу\u001B[0m мене \u001B[92m\u001B[1mвиникли\u001B[0m деякі \u001B[92m\u001B[1mпроблеми.\u001B[0m \u001B[92m\u001B[1mЯкщо\u001B[0m \u001B[92m\u001B[1mможна,\u001B[0m я завтра буду на робочому \u001B[92m\u001B[1mмісці?\u001B[0m\n",
      "\n",
      "Reasoning:\n",
      "Додано знак оклику після 'Добрий день' для завершення привітання; виправлено 'винекли' на 'виникли' для правильного написання; додано коми для розділення частин речення; виправлено 'місті' на 'місці' для правильного вживання.\n",
      "    \n",
      "Correction: 1\n",
      "\n",
      "Original Text:\n",
      "Добрий \u001B[91m\u001B[1mдень\u001B[0m я \u001B[91m\u001B[1mвам\u001B[0m \u001B[91m\u001B[1mбув\u001B[0m писав \u001B[91m\u001B[1mв\u001B[0m мене \u001B[91m\u001B[1mбули\u001B[0m \u001B[91m\u001B[1mвинекли\u001B[0m деякі \u001B[91m\u001B[1mпроблеми\u001B[0m \u001B[91m\u001B[1mякщо\u001B[0m \u001B[91m\u001B[1mможна\u001B[0m я завтра буду на робочому \u001B[91m\u001B[1mмісті\u001B[0m \u001B[91m\u001B[1m?\u001B[0m\n",
      "\n",
      "Corrected Text:\n",
      "Добрий \u001B[92m\u001B[1mдень!\u001B[0m \u001B[92m\u001B[1mЯ\u001B[0m писав \u001B[92m\u001B[1mвам,\u001B[0m \u001B[92m\u001B[1mу\u001B[0m мене \u001B[92m\u001B[1mвиникли\u001B[0m деякі \u001B[92m\u001B[1mпроблеми.\u001B[0m \u001B[92m\u001B[1mЯкщо\u001B[0m \u001B[92m\u001B[1mможливо,\u001B[0m я завтра буду на робочому \u001B[92m\u001B[1mмісці.\u001B[0m\n",
      "\n",
      "Reasoning:\n",
      "Змінено порядок слів для покращення стилю; виправлено 'винекли' на 'виникли'; замінено 'якщо можна' на 'якщо можливо' для більш формального звучання; виправлено 'місті' на 'місці'.\n",
      "    \n",
      "Correction: 2\n",
      "\n",
      "Original Text:\n",
      "Добрий \u001B[91m\u001B[1mдень\u001B[0m я \u001B[91m\u001B[1mвам\u001B[0m \u001B[91m\u001B[1mбув\u001B[0m писав \u001B[91m\u001B[1mв\u001B[0m мене \u001B[91m\u001B[1mбули\u001B[0m \u001B[91m\u001B[1mвинекли\u001B[0m деякі \u001B[91m\u001B[1mпроблеми\u001B[0m \u001B[91m\u001B[1mякщо\u001B[0m \u001B[91m\u001B[1mможна\u001B[0m я завтра \u001B[91m\u001B[1mбуду\u001B[0m на робочому \u001B[91m\u001B[1mмісті\u001B[0m \u001B[91m\u001B[1m?\u001B[0m\n",
      "\n",
      "Corrected Text:\n",
      "Добрий \u001B[92m\u001B[1mдень!\u001B[0m \u001B[92m\u001B[1mЯ\u001B[0m писав \u001B[92m\u001B[1mвам,\u001B[0m \u001B[92m\u001B[1mу\u001B[0m мене \u001B[92m\u001B[1mвиникли\u001B[0m деякі \u001B[92m\u001B[1mпроблеми.\u001B[0m \u001B[92m\u001B[1mЧи\u001B[0m \u001B[92m\u001B[1mможу\u001B[0m я завтра \u001B[92m\u001B[1mбути\u001B[0m на робочому \u001B[92m\u001B[1mмісці?\u001B[0m\n",
      "\n",
      "Reasoning:\n",
      "Змінено 'якщо можна' на 'чи можу я' для покращення формулювання питання; виправлено 'винекли' на 'виникли'; додано знаки пунктуації для чіткості.\n",
      "    \n"
     ]
    }
   ],
   "source": [
    "multi_gec_correction_comparison_text: str = \"\"\n",
    "\n",
    "for i, correction_reasoning in enumerate(multi_gec_output):\n",
    "    correction = correction_reasoning[\"correction\"]\n",
    "    reasoning = correction_reasoning[\"explanation\"]\n",
    "\n",
    "    text1 = normalize_spaces(original_text)\n",
    "    text2 = normalize_spaces(correction)\n",
    "\n",
    "    original_corrected_text = generate_original_corrected_texts(\n",
    "        original_text=original_text,\n",
    "        corrected_text=text2)\n",
    "\n",
    "    multi_gec_correction_comparison_text += f\"\"\"\n",
    "Correction: {i}\n",
    "\n",
    "Original Text:\n",
    "{original_corrected_text[0]}\n",
    "\n",
    "Corrected Text:\n",
    "{original_corrected_text[1]}\n",
    "\n",
    "Reasoning:\n",
    "{reasoning}\n",
    "    \"\"\"\n",
    "\n",
    "print(multi_gec_correction_comparison_text)"
   ],
   "metadata": {
    "collapsed": false,
    "ExecuteTime": {
     "end_time": "2024-11-11T12:31:55.931133Z",
     "start_time": "2024-11-11T12:31:55.928553Z"
    }
   }
  },
  {
   "cell_type": "code",
   "execution_count": 75,
   "outputs": [
    {
     "data": {
      "text/plain": "'Агрегуйте запроповані граматичні виправлення тексту у фінальний граматично правильний текст.\\nЗ оригінального тексту та списку з 3 варіантів його виправлення, об\\'єднай всі корисні виправлення з цих варіантів та створи фінальний виправлений синтаксично коректний текст.\\nУсунь орфографічні, пунктуаційні, стилістичні, граматичні, лексичні та синтаксичні помилки.\\nДобав пояснення до агрегованих виправлень та граматичної корекції тексту.\\nСфокосуйся на запропонованих виправленнях, та не старайся виправити оригінальний текст самотужки.\\nЯкщо помилок немає, поверни оригінальний текст.\\n\\nФормат запропонованих виправленнь:\\n[{\\n    \"correction\": \"виправлений текст\",\\n    \"explanation\": \"пояснення до виправлення\"\\n},...]\\n\\n[Output only JSON]\\nФормат відповіді у JSON:\\n{\\n    \"correction\": \"виправлений текст\",\\n    \"explanation\": \"пояснення до виправлення\"\\n}\\n\\nОригінальний текст: Добрий день я вам був писав в мене були винекли\\nдеякі проблеми якщо можна я завтра буду на робочому місті ?\\nЗапропоновані виправлення: [\\'Добрий день! Я вам писав, у мене виникли деякі проблеми. Якщо можна, я завтра буду на робочому місці?\\', \\'Добрий день! Я писав вам, у мене виникли деякі проблеми. Якщо можливо, я завтра буду на робочому місці.\\', \\'Добрий день! Я писав вам, у мене виникли деякі проблеми. Чи можу я завтра бути на робочому місці?\\']\\nВиправлений текст:'"
     },
     "execution_count": 75,
     "metadata": {},
     "output_type": "execute_result"
    }
   ],
   "source": [
    "\n",
    "\n",
    "correction_aggregation_prompt = gec_aggregation_prompt_per_language[language].prompt_template\n",
    "\n",
    "correction_aggregation_prompt_formatted = correction_aggregation_prompt.format(\n",
    "    text=text,\n",
    "    possible_corrections=str([output[\"correction\"] for output in multi_gec_output]),\n",
    "    num_corrections=parameters.multi_gec.num_corrections\n",
    ")\n",
    "correction_aggregation_prompt_formatted"
   ],
   "metadata": {
    "collapsed": false,
    "ExecuteTime": {
     "end_time": "2024-11-11T12:31:55.934102Z",
     "start_time": "2024-11-11T12:31:55.930462Z"
    }
   }
  },
  {
   "cell_type": "code",
   "execution_count": 76,
   "outputs": [
    {
     "data": {
      "text/plain": "(316, 439)"
     },
     "execution_count": 76,
     "metadata": {},
     "output_type": "execute_result"
    }
   ],
   "source": [
    "gec_aggregation_prompt_tokens = len(tokenizer.encode(correction_aggregation_prompt.template))\n",
    "gec_aggregation_prompt_formatted_tokens = len(tokenizer.encode(correction_aggregation_prompt_formatted))\n",
    "gec_aggregation_prompt_tokens, gec_aggregation_prompt_formatted_tokens"
   ],
   "metadata": {
    "collapsed": false,
    "ExecuteTime": {
     "end_time": "2024-11-11T12:31:55.937175Z",
     "start_time": "2024-11-11T12:31:55.934280Z"
    }
   }
  },
  {
   "cell_type": "code",
   "execution_count": 77,
   "outputs": [],
   "source": [
    "client = OpenAI(api_key=os.environ.get(\"OPEN_AI_API_KEY\"))\n",
    "chat_completion = client.chat.completions.create(\n",
    "    messages=[\n",
    "        {\n",
    "            \"role\": \"user\",\n",
    "            \"content\": correction_aggregation_prompt_formatted,\n",
    "        }\n",
    "    ],\n",
    "    temperature=parameters.gec_aggregation.temperature,\n",
    "    top_p=parameters.gec_aggregation.top_p,\n",
    "    model=parameters.gec_aggregation.model_name,\n",
    ")\n",
    "original_text = text\n",
    "gec_aggregation_raw_output = chat_completion.choices[0].message.content\n",
    "import json\n",
    "pattern = r'```json\\s*\\n(?P<json>([\\s\\S]*?))\\n```'\n",
    "matches = re.finditer(pattern, gec_aggregation_raw_output, re.MULTILINE)\n",
    "for match in matches:\n",
    "    json_content = match.group('json')\n",
    "    try:\n",
    "        gec_aggregation_output = json.loads(json_content)\n",
    "        print(gec_aggregation_output)\n",
    "    except json.JSONDecodeError as e:\n",
    "        print(\"Invalid JSON:\", e)\n",
    "else:\n",
    "    gec_aggregation_output = ast.literal_eval(gec_aggregation_raw_output.strip(\"```json\"))\n",
    "\n",
    "gec_aggregation_output_tokens = len(tokenizer.encode(gec_aggregation_raw_output))\n",
    "gec_aggregation_correction_output_tokens = len(tokenizer.encode(str(gec_aggregation_output[\"correction\"])))\n",
    "gec_aggregation_explanation_output_tokens = len(tokenizer.encode(str(gec_aggregation_output[\"explanation\"])))\n"
   ],
   "metadata": {
    "collapsed": false,
    "ExecuteTime": {
     "end_time": "2024-11-11T12:31:59.111430Z",
     "start_time": "2024-11-11T12:31:55.939426Z"
    }
   }
  },
  {
   "cell_type": "code",
   "execution_count": 78,
   "outputs": [
    {
     "data": {
      "text/plain": "'Добрий день! Я писав вам, у мене виникли деякі проблеми. Якщо можливо, я завтра буду на робочому місці.'"
     },
     "execution_count": 78,
     "metadata": {},
     "output_type": "execute_result"
    }
   ],
   "source": [
    "gec_aggregation_output[\"correction\"]"
   ],
   "metadata": {
    "collapsed": false,
    "ExecuteTime": {
     "end_time": "2024-11-11T12:31:59.115393Z",
     "start_time": "2024-11-11T12:31:59.112647Z"
    }
   }
  },
  {
   "cell_type": "code",
   "execution_count": 79,
   "outputs": [
    {
     "name": "stdout",
     "output_type": "stream",
     "text": [
      "\n",
      "Sentence # 2\n",
      "Original Text:\n",
      "Добрий \u001B[91m\u001B[1mдень\u001B[0m я \u001B[91m\u001B[1mвам\u001B[0m \u001B[91m\u001B[1mбув\u001B[0m писав \u001B[91m\u001B[1mв\u001B[0m мене \u001B[91m\u001B[1mбули\u001B[0m \u001B[91m\u001B[1mвинекли\u001B[0m деякі \u001B[91m\u001B[1mпроблеми\u001B[0m \u001B[91m\u001B[1mякщо\u001B[0m \u001B[91m\u001B[1mможна\u001B[0m я завтра буду на робочому \u001B[91m\u001B[1mмісті\u001B[0m \u001B[91m\u001B[1m?\u001B[0m\n",
      "\n",
      "Corrected Text:\n",
      "Добрий \u001B[92m\u001B[1mдень!\u001B[0m \u001B[92m\u001B[1mЯ\u001B[0m писав \u001B[92m\u001B[1mвам,\u001B[0m \u001B[92m\u001B[1mу\u001B[0m мене \u001B[92m\u001B[1mвиникли\u001B[0m деякі \u001B[92m\u001B[1mпроблеми.\u001B[0m \u001B[92m\u001B[1mЯкщо\u001B[0m \u001B[92m\u001B[1mможливо,\u001B[0m я завтра буду на робочому \u001B[92m\u001B[1mмісці.\u001B[0m\n",
      "\n",
      "Reasoning:\n",
      "Виправлення включає коректне використання розділових знаків, зокрема, додавання знака оклику після 'Добрий день' та ком після 'якщо можливо'. Слово 'винекли' виправлено на 'виникли', а 'робочому місті' на 'робочому місці' для правильного вживання терміна. Формулювання 'якщо можна' замінено на 'якщо можливо' для більш формального звучання.\n",
      "\n"
     ]
    }
   ],
   "source": [
    "correction = gec_aggregation_output[\"correction\"]\n",
    "reasoning = gec_aggregation_output[\"explanation\"]\n",
    "\n",
    "original_text = text\n",
    "\n",
    "print(\"\\nSentence #\", i)\n",
    "text1 = normalize_spaces(original_text)\n",
    "text2 = normalize_spaces(correction)\n",
    "\n",
    "original_corrected_text = generate_original_corrected_texts(\n",
    "        original_text=original_text,\n",
    "        corrected_text=text2)\n",
    "\n",
    "print(\"Original Text:\")\n",
    "print(original_corrected_text[0])\n",
    "print()\n",
    "\n",
    "print(\"Corrected Text:\")\n",
    "print(original_corrected_text[1])\n",
    "print()\n",
    "\n",
    "print(\"Reasoning:\")\n",
    "print(reasoning)\n",
    "print()\n"
   ],
   "metadata": {
    "collapsed": false,
    "ExecuteTime": {
     "end_time": "2024-11-11T12:31:59.119880Z",
     "start_time": "2024-11-11T12:31:59.116940Z"
    }
   }
  },
  {
   "cell_type": "code",
   "execution_count": 80,
   "outputs": [
    {
     "name": "stdout",
     "output_type": "stream",
     "text": [
      "HTML file with colored output saved as gec_aggregation.output_comparison.html\n",
      "HTML file with colored output saved as multi_gec.output_comparison.html\n"
     ]
    },
    {
     "name": "stderr",
     "output_type": "stream",
     "text": [
      "2024/11/11 14:31:59 INFO mlflow.tracking._tracking_service.client: 🏃 View run experiment Добрий день я вам був писав в ... at: http://127.0.0.1:5000/#/experiments/875882461670179036/runs/fd0ffef943cb46e394a9c4aa548e50d2.\n",
      "2024/11/11 14:31:59 INFO mlflow.tracking._tracking_service.client: 🧪 View experiment at: http://127.0.0.1:5000/#/experiments/875882461670179036.\n"
     ]
    }
   ],
   "source": [
    "clip_text_in_run_name_in_chars: int = 30\n",
    "\n",
    "run_name = f\"{parameters.experiment.run_name} {text[:clip_text_in_run_name_in_chars] + '...' if len(text) > clip_text_in_run_name_in_chars else text}\"\n",
    "\n",
    "with mlflow.start_run(run_name=run_name) as run:\n",
    "    # region Log Outputs and Parameters\n",
    "    mlflow.log_params(flatten(parameters, reducer=\"dot\"))\n",
    "    gec_aggregation_html_comparison_file_name = save_comparison_to_html(\n",
    "        original_text,\n",
    "        correction,\n",
    "        reasoning,\n",
    "        \"gec_aggregation.output_comparison.html\",\n",
    "    )\n",
    "    mlflow.log_artifact(gec_aggregation_html_comparison_file_name)\n",
    "\n",
    "    mlflow.log_artifact(multi_gec_correction_comparison_file_name)\n",
    "    # endregion\n",
    "\n",
    "    # region Log texts and results\n",
    "    mlflow.log_text(text1, artifact_file=\"original_text.txt\")\n",
    "    mlflow.log_text(text2, artifact_file=\"corrected_text.txt\")\n",
    "    mlflow.log_text(reasoning, artifact_file=\"reasoning.txt\")\n",
    "    # endregion\n",
    "\n",
    "    # region Log prompts\n",
    "    mlflow.log_text(\n",
    "        grammar_correction_prompt_formatted,\n",
    "        artifact_file=\"multi_gec.prompt_formatted.txt\")\n",
    "    mlflow.log_text(\n",
    "        grammar_correction_prompt.template,\n",
    "        artifact_file=\"multi_gec.prompt.txt\")\n",
    "    mlflow.log_text(\n",
    "        correction_aggregation_prompt_formatted,\n",
    "        artifact_file=\"gec_aggregation.prompt_formatted.txt\"\n",
    "    )\n",
    "    mlflow.log_text(\n",
    "        correction_aggregation_prompt.template,\n",
    "        artifact_file=\"gec_aggregation.prompt.txt\"\n",
    "    )\n",
    "    # endregion\n",
    "\n",
    "    # region Log prompt tokens\n",
    "    mlflow.log_metric(\n",
    "        key=\"multi_gec.prompt_tokens\",\n",
    "        value=grammar_correction_prompt_tokens\n",
    "    )\n",
    "    mlflow.log_metric(\n",
    "        key=\"multi_gec.prompt_formatted_tokens\",\n",
    "        value=grammar_correction_prompt_formatted_tokens\n",
    "    )\n",
    "    mlflow.log_metric(\n",
    "        key=\"gec_aggregation.prompt_tokens\",\n",
    "        value=grammar_correction_prompt_tokens\n",
    "    )\n",
    "    mlflow.log_metric(\n",
    "        key=\"gec_aggregation.prompt_formatted_tokens\",\n",
    "        value=grammar_correction_prompt_formatted_tokens\n",
    "    )\n",
    "    # endregion\n",
    "\n",
    "    # region Log metrics\n",
    "    edit_distance = nltk.edit_distance(\n",
    "        original_text,\n",
    "        correction\n",
    "    )\n",
    "    avg_edit_distance = average_edit_distance(\n",
    "        original_text,\n",
    "        correction,\n",
    "    )\n",
    "    mlflow.log_metric(\n",
    "        key=\"gec_aggregation.edit_distance\",\n",
    "        value=edit_distance,\n",
    "    )\n",
    "    mlflow.log_metric(\n",
    "        key=\"gec_aggregation.avg_edit_distance\",\n",
    "        value=avg_edit_distance,\n",
    "    )\n",
    "    for i, output in enumerate(multi_gec_output):\n",
    "        multi_gec_correction = output[\"correction\"]\n",
    "\n",
    "        edit_distance = nltk.edit_distance(\n",
    "            original_text,\n",
    "            multi_gec_correction\n",
    "        )\n",
    "        avg_edit_distance = average_edit_distance(\n",
    "            original_text,\n",
    "            multi_gec_correction,\n",
    "        )\n",
    "        mlflow.log_metric(\n",
    "            key=f\"multi_gec_correction.{i}.edit_distance\",\n",
    "            value=edit_distance,\n",
    "        )\n",
    "        mlflow.log_metric(\n",
    "            key=f\"multi_gec_correction.{i}.avg_edit_distance\",\n",
    "            value=avg_edit_distance,\n",
    "        )\n",
    "\n",
    "    mlflow.log_metric(\n",
    "        key=\"multi_gec.input_text_tokens\",\n",
    "        value=input_text_tokens\n",
    "    )\n",
    "    mlflow.log_metric(\n",
    "        key=\"multi_gec.output_tokens\",\n",
    "        value=multi_gec_output_tokens\n",
    "    )\n",
    "    mlflow.log_metric(\n",
    "        key=\"multi_gec.correction_output_tokens\",\n",
    "        value=multi_gec_correction_output_tokens\n",
    "    )\n",
    "    mlflow.log_metric(\n",
    "        key=\"multi_gec.explanation_output_tokens\",\n",
    "        value=multi_gec_explanation_output_tokens\n",
    "    )\n",
    "    mlflow.log_metric(\n",
    "        key=\"gec_aggregation.output_tokens\",\n",
    "        value=gec_aggregation_output_tokens\n",
    "    )\n",
    "    mlflow.log_metric(\n",
    "        key=\"gec_aggregation.correction_output_tokens\",\n",
    "        value=gec_aggregation_correction_output_tokens\n",
    "    )\n",
    "    mlflow.log_metric(\n",
    "        key=\"gec_aggregation.explanation_output_tokens\",\n",
    "        value=gec_aggregation_explanation_output_tokens\n",
    "    )\n",
    "    # endregion\n"
   ],
   "metadata": {
    "collapsed": false,
    "ExecuteTime": {
     "end_time": "2024-11-11T12:31:59.354202Z",
     "start_time": "2024-11-11T12:31:59.122615Z"
    }
   }
  }
 ],
 "metadata": {
  "kernelspec": {
   "display_name": "Python 3",
   "language": "python",
   "name": "python3"
  },
  "language_info": {
   "codemirror_mode": {
    "name": "ipython",
    "version": 2
   },
   "file_extension": ".py",
   "mimetype": "text/x-python",
   "name": "python",
   "nbconvert_exporter": "python",
   "pygments_lexer": "ipython2",
   "version": "2.7.6"
  }
 },
 "nbformat": 4,
 "nbformat_minor": 0
}
